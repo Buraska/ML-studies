{
 "cells": [
  {
   "metadata": {},
   "cell_type": "code",
   "source": [
    "from google_play_scraper import Sort, reviews_all\n",
    "from sentence_transformers import SentenceTransformer\n",
    "from sympy import false\n"
   ],
   "outputs": [],
   "execution_count": null
  },
  {
   "metadata": {},
   "cell_type": "markdown",
   "source": "# Fetching data"
  },
  {
   "metadata": {},
   "cell_type": "markdown",
   "source": "## GETTING DATA"
  },
  {
   "metadata": {},
   "cell_type": "code",
   "source": [
    "reviews = reviews_all(\n",
    "    'com.makenotetoself',\n",
    "    sleep_milliseconds=0,  # defaults to 0\n",
    "    lang='en',  # defaults to 'en'\n",
    "    country='us',  # defaults to 'us'\n",
    "    sort=Sort.MOST_RELEVANT,\n",
    ")"
   ],
   "outputs": [],
   "execution_count": null
  },
  {
   "metadata": {},
   "cell_type": "code",
   "source": "import pandas as pd",
   "outputs": [],
   "execution_count": null
  },
  {
   "metadata": {},
   "cell_type": "markdown",
   "source": "## FILTERING DATA"
  },
  {
   "metadata": {},
   "cell_type": "code",
   "source": "df = pd.read_csv(\"out_csv/reviews.csv\")",
   "outputs": [],
   "execution_count": null
  },
  {
   "metadata": {},
   "cell_type": "code",
   "source": [
    "# df[df['repliedAt'].isna()]\n",
    "df['content']"
   ],
   "outputs": [],
   "execution_count": null
  },
  {
   "metadata": {},
   "cell_type": "code",
   "source": [
    "df_selected = df[['content', 'score', 'thumbsUpCount']].sort_values(by='thumbsUpCount', ascending=True)\n",
    "csv_filename = \"out_csv/reviews.csv\"\n",
    "df_selected.to_csv(\"filtered_reviews.csv\", index=False, encoding='utf-8')"
   ],
   "outputs": [],
   "execution_count": null
  },
  {
   "cell_type": "code",
   "metadata": {
    "collapsed": true
   },
   "source": "df = pd.read_csv(\"out_csv/filtered_reviews.csv\")",
   "outputs": [],
   "execution_count": null
  },
  {
   "cell_type": "markdown",
   "source": [],
   "metadata": {
    "collapsed": false
   }
  },
  {
   "metadata": {},
   "cell_type": "markdown",
   "source": "# ANALYSIS\n"
  },
  {
   "metadata": {},
   "cell_type": "markdown",
   "source": "### CLUSTERING"
  },
  {
   "metadata": {},
   "cell_type": "code",
   "source": [
    "import os\n",
    "!pip install openai\n",
    "\n"
   ],
   "outputs": [],
   "execution_count": null
  },
  {
   "metadata": {},
   "cell_type": "code",
   "source": [
    "from openai import OpenAI\n",
    "client = OpenAI()\n",
    "\n",
    "def get_embedding(text, model=\"text-embedding-3-small\"):\n",
    "    text = text.replace(\"\\n\", \" \")\n",
    "    return client.embeddings.create(input = text, model=model).data[0].embedding\n",
    "\n",
    "df['embedding'] = df.content.apply(lambda x: get_embedding(x, model='text-embedding-3-large'))\n",
    "df.to_csv('embedded_reviews.csv', index=False)"
   ],
   "outputs": [],
   "execution_count": null
  },
  {
   "metadata": {},
   "cell_type": "markdown",
   "source": "### CLUSTERING VISUALIZATION"
  },
  {
   "metadata": {},
   "cell_type": "code",
   "source": [
    "from sklearn.cluster import KMeans\n",
    "from sklearn.manifold import TSNE\n",
    "import matplotlib.pyplot as plt\n",
    "import numpy as np\n",
    "import pandas as pd\n",
    "from matplotlib.patches import Patch\n",
    "import matplotlib\n"
   ],
   "outputs": [],
   "execution_count": null
  },
  {
   "metadata": {},
   "cell_type": "code",
   "source": [
    "\n",
    "\n",
    "df = pd.read_csv('out_csv/embedded_reviews.csv')\n",
    "# apply(eval) интрепретирует строку как питон выражение.Если элемент столбца — это строка \"[0.1, 0.2, 0.3]\", то eval преобразует ее в список [0.1, 0.2, 0.3]\n",
    "matrix = np.array(df.embedding.apply(eval).to_list())\n",
    "print(type(matrix))\n",
    "# Create a t-SNE model and transform the data\n",
    "# n_components - размерность. preplexity Чем выше значение, тем больше соседей учитывается для каждой точки.\n",
    "tsne = TSNE(n_components=2, perplexity=15, random_state=42, init='random', learning_rate=200)\n",
    "vis_dims = tsne.fit_transform(matrix)\n",
    "\n",
    "colors = [\"red\", \"darkorange\", \"gold\", \"turquoise\", \"darkgreen\"]\n",
    "legend_elements = [\n",
    "    Patch(facecolor='red', label='Score 1'),\n",
    "    Patch(facecolor='darkorange', label='Score 2'),\n",
    "    Patch(facecolor='gold', label='Score 3'),\n",
    "    Patch(facecolor='turquoise', label='Score 4'),\n",
    "    Patch(facecolor='darkgreen', label='Score 5')\n",
    "]\n",
    "plt.legend(handles=legend_elements, title=\"Scores\")\n",
    "\n",
    "x = [x for x,y in vis_dims]\n",
    "y = [y for x,y in vis_dims]\n",
    "color_indices = df.score.values - 1\n",
    "\n",
    "colormap = matplotlib.colors.ListedColormap(colors)\n",
    "plt.scatter(x, y, s=20, c=color_indices, cmap=colormap, alpha=0.3)\n",
    "plt.tight_layout()\n",
    "plt.title(\"Visualization of 'Note to self' Reviews\")\n",
    "plt.savefig('out/tsne_visualization.png', dpi=600, bbox_inches='tight')  # Save as PNG\n"
   ],
   "outputs": [],
   "execution_count": null
  },
  {
   "metadata": {},
   "cell_type": "code",
   "source": [
    "df = pd.read_csv('out_csv/embedded_reviews.csv')\n",
    "\n",
    "matrix = np.array(df.embedding.apply(eval).to_list())\n",
    "\n",
    "kmeans = KMeans(n_clusters=30, random_state=10)\n",
    "clusters = kmeans.fit_predict(matrix)\n",
    "\n",
    "df['cluster'] = clusters\n",
    "\n",
    "df.to_csv('clusters_reviews.csv', index=False)"
   ],
   "outputs": [],
   "execution_count": null
  },
  {
   "metadata": {},
   "cell_type": "code",
   "source": [
    "df = pd.read_csv(\"out_csv/clusters_reviews.csv\")\n",
    "df[df[\"cluster\"] == 29]['content']\n",
    "# grouped = df.groupby(\"cluster\").size()"
   ],
   "outputs": [],
   "execution_count": null
  },
  {
   "metadata": {},
   "cell_type": "code",
   "source": [
    "tsne = TSNE(n_components=2, perplexity=15, random_state=42, init='random', learning_rate=200)\n",
    "vis_dims = tsne.fit_transform(matrix)\n",
    "\n",
    "scatter = plt.scatter(vis_dims[:, 0], vis_dims[:, 1], s=20, c=clusters, cmap='viridis', alpha=0.6)\n",
    "# Create legend\n",
    "unique_clusters = np.unique(clusters)  # Get unique cluster labels\n",
    "legend_elements = [Patch(facecolor=plt.cm.viridis(i / (len(unique_clusters) - 1)), label=f'Cluster {i + 1}') for i in unique_clusters]\n",
    "\n",
    "plt.title(\"Visualization of 'Note to self' Reviews with Clusters\")\n",
    "plt.tight_layout()\n",
    "\n",
    "plt.legend(handles=legend_elements, title=\"Clusters\", bbox_to_anchor=(1.05, 1), loc='upper left')\n",
    "plt.savefig('out/clustered_visualization.png', dpi=600, bbox_inches='tight')  # Save as PNG\n"
   ],
   "outputs": [],
   "execution_count": null
  },
  {
   "metadata": {},
   "cell_type": "markdown",
   "source": "### DATA ANALYSIS\n"
  },
  {
   "metadata": {
    "ExecuteTime": {
     "end_time": "2025-03-06T16:58:48.258167Z",
     "start_time": "2025-03-06T16:58:47.464139Z"
    }
   },
   "cell_type": "code",
   "source": [
    "from openai import OpenAI\n",
    "import pandas as pd\n",
    "client = OpenAI()\n"
   ],
   "outputs": [],
   "execution_count": 3
  },
  {
   "metadata": {},
   "cell_type": "code",
   "source": [
    "res = df[df[\"cluster\"] == 0]['content'].astype(str).str.cat(sep='\\n')\n",
    "print(res)\n"
   ],
   "outputs": [],
   "execution_count": null
  },
  {
   "metadata": {
    "ExecuteTime": {
     "end_time": "2025-03-06T11:52:02.285408Z",
     "start_time": "2025-03-06T11:51:06.211505Z"
    }
   },
   "cell_type": "code",
   "source": [
    "df = pd.read_csv('out_csv/clusters_reviews.csv')\n",
    "num_of_groups = df.groupby('cluster').ngroups\n",
    "results = []\n",
    "for cluster_id in range(num_of_groups):\n",
    "    reviews = df[df[\"cluster\"] == cluster_id]['content'].astype(str).str.cat(sep='\\n')\n",
    "    prompt = f'''\n",
    "    Your task is to analyze customer reviews for an Android app designed for organizing notes in a chat-like format.\n",
    "    The product introduces an unconventional approach to note-taking by allowing users to create multiple chats, group them, and keep their notes within these conversations.\n",
    "    You are provided with reviews for this product. In this reviews users may for example praise the product, discount it or suggest new features. In this reviews are discussed from one to three different topics. Your task is to determine from one to three topics user talk about.\n",
    "    Carefully read all the responses from the survey and identify the themes and features users are discussing. Do not make anything up—base your analysis solely on the provided data.\n",
    "    I’ll tip you $200 for a solid analysis and correctly identifying the theme—this is crucial for my career.\n",
    "    Your response has to be only a list of identified topics. Each line in the output has start with topicName:TopicDescription\n",
    "    Each review starts with the new line:\n",
    "    <reviews>\n",
    "    {reviews}\n",
    "    </reviews>\n",
    "    '''\n",
    "    analyze_cluser_response = client.chat.completions.create(\n",
    "        model=\"gpt-4o-mini\",\n",
    "        messages=[\n",
    "            {\"role\": \"user\", \"content\": prompt}\n",
    "        ]\n",
    "    ).choices[0].message.content\n",
    "    results.append(analyze_cluser_response)\n",
    "\n",
    "with open(\"out/gpt_analysis#3.md\", \"w\", encoding='utf-8') as f:\n",
    "    f.writelines(map(lambda x: str(x) + \"\\n\", results))\n"
   ],
   "outputs": [],
   "execution_count": 4
  },
  {
   "metadata": {},
   "cell_type": "code",
   "source": "",
   "outputs": [],
   "execution_count": null
  },
  {
   "metadata": {
    "ExecuteTime": {
     "end_time": "2025-03-05T20:27:59.715365Z",
     "start_time": "2025-03-05T20:27:40.250803Z"
    }
   },
   "cell_type": "code",
   "source": [
    "with open(\"out/gpt_analysis#0.md\", \"r\", encoding=\"utf-8\") as file:\n",
    "    content = file.read()  # Read the entire file into a string\n",
    "\n",
    "prompt = f'''\n",
    "You get as an input a summarization of app reviews.\n",
    "There are mentioned key themes of user reviews and features they want to add.\n",
    "You task is to summarise it and get 30 most frequent different topics users write about\n",
    "r.\n",
    "\n",
    "<content>\n",
    "{content}\n",
    "</content>\n",
    "'''\n",
    "analyze_cluser_response = client.chat.completions.create(\n",
    "    model=\"gpt-4o\",\n",
    "    messages=[\n",
    "        {\"role\": \"user\", \"content\": prompt}\n",
    "    ]\n",
    ").choices[0].message.content\n",
    "\n",
    "with open(\"out/gpt_analysis_summarize#3.md\", \"w\", encoding='utf-8') as f:\n",
    "    f.write(analyze_cluser_response)\n"
   ],
   "outputs": [],
   "execution_count": 174
  },
  {
   "metadata": {},
   "cell_type": "code",
   "source": [
    "with open(\"out/gpt_analysis#0.md\", \"r\", encoding=\"utf-8\") as file:\n",
    "    content = file.read()  # Read the entire file into a string\n",
    "\n",
    "\n",
    "\n",
    "with open(\"out/gpt_analysis_summarize#2.md\", \"w\", encoding='utf-8') as f:\n",
    "    f.write(analyze_cluser_response)\n"
   ],
   "outputs": [],
   "execution_count": null
  },
  {
   "metadata": {
    "ExecuteTime": {
     "end_time": "2025-03-06T12:21:31.381475Z",
     "start_time": "2025-03-06T12:14:31.875456Z"
    }
   },
   "cell_type": "code",
   "source": [
    "df = pd.read_csv(\"out_csv/filtered_reviews.csv\")\n",
    "\n",
    "def get_review_topic(review):\n",
    "    prompt = f'''\n",
    "    As input, you receive a review and a list of topics. Each topic is seperated by a new line. Each line has Topic name and it description seperated by columns. Your task is to analyze the customer review and determine which topic from the list it belongs to. You must use only the topics from the given list.\n",
    "\n",
    "    Carefully read all the reviews and identify the most appropriate topic from the list. Do not make anything up—base your analysis solely on the provided data.\n",
    "    Your response must contain only one topic from the given list. The list is ordered in descending priority, so if the review fits multiple topics, return the one with the highest priority.\n",
    "    Each topic is seperated by a new line. Each line has Topic name and it description seperated by columns.\n",
    "    Your response must consist only of the chosen topic name.\n",
    "\n",
    "    I’ll tip you $200 for a correct result.\n",
    "    <review>\n",
    "    {review}\n",
    "    </review>\n",
    "\n",
    "    <topics>\n",
    "FileSupport:Ability to attach and manage files such as PDFs and Office documents within the app.\n",
    "TextFormatting:Requests for text formatting options like bold, italic, and markdown support for enhanced note customization.\n",
    "WidgetsAndQuickOptions:Addition of widgets, sidebar quick options, and batch export to text for improved accessibility and efficiency.\n",
    "AttachmentCapabilities:Ability to attach and save documents, photos, and other media within notes.\n",
    "RemindersAndNotifications:Requests for reminder features and notifications to alert users about important notes or tasks.\n",
    "MessageOrganization:Improved message management features such as pinning, reordering, and drag-and-drop functionality for better organization.\n",
    "TrashBinAndCrossPlatform:Addition of a trash bin for deleted notes and requests for cross-platform syncing (Windows, iOS, web).\n",
    "ThemeCustomization:Requests for theme customization, dark mode, and accessibility improvements for a personalized user experience.\n",
    "NoteAlarmsAndArchiving:Features like alarms for notes, archiving options, and category differentiation for better note management.\n",
    "VideoUploads:Ability to upload and manage videos within the app.\n",
    "SecurityEnhancements:Requests for enhanced security features such as password protection, encryption, and authentication methods.\n",
    "BackupAndSync:Automatic backups, cloud syncing, and improved backup reliability to prevent data loss.\n",
    "SearchAndSorting:Search capabilities, sorting options, and advanced formatting tools for better note organization and retrieval.\n",
    "User Satisfaction:Overall positive experiences with the app's functionality and innovative design.\n",
    "App Crashes:Frustration with frequent crashes and app instability, particularly after updates.\n",
    "Loss of Data:Concerns about losing notes and data due to the app's instability.\n",
    "Emotional Expression and Reflection:App use as a tool for self-reflection and personal journaling. Assisting users, especially those with ADHD and autism, to organize thoughts.\n",
    "Unique Concept:Praise for combining messaging and note-taking elements innovatively.\n",
    "GeneralDiscontent:Users express overall dissatisfaction with the app, citing various issues such as crashes, data loss, poor functionality, and a lack of desired features.\n",
    "    </topics>\n",
    "    '''\n",
    "    topic = client.chat.completions.create(\n",
    "        model=\"gpt-4o-mini\",\n",
    "        messages=[\n",
    "            {\"role\": \"user\", \"content\": prompt}\n",
    "        ]\n",
    "    ).choices[0].message.content\n",
    "    return topic\n",
    "\n",
    "df['topic'] = df.content.apply(lambda x: get_review_topic(x))\n",
    "df.to_csv('topic_reviews#3.csv', index=False)"
   ],
   "outputs": [],
   "execution_count": 6
  },
  {
   "metadata": {
    "ExecuteTime": {
     "end_time": "2025-03-06T16:58:58.723684Z",
     "start_time": "2025-03-06T16:58:58.684681Z"
    }
   },
   "cell_type": "code",
   "source": [
    "df = pd.read_csv(\"out_csv/topic_reviews#3.csv\")\n",
    "df.groupby(\"topic\").size()"
   ],
   "outputs": [
    {
     "data": {
      "text/plain": [
       "topic\n",
       "App Crashes                             63\n",
       "AttachmentCapabilities                  10\n",
       "BackupAndSync                           31\n",
       "Emotional Expression and Reflection     26\n",
       "FileSupport                              9\n",
       "GeneralDiscontent                       42\n",
       "Loss of Data                            36\n",
       "MessageOrganization                     14\n",
       "NoteAlarmsAndArchiving                  10\n",
       "RemindersAndNotifications               16\n",
       "SearchAndSorting                         7\n",
       "SecurityEnhancements                    20\n",
       "TextFormatting                          23\n",
       "ThemeCustomization                      30\n",
       "TrashBinAndCrossPlatform                12\n",
       "Unique Concept                          51\n",
       "User Satisfaction                      248\n",
       "VideoUploads                             2\n",
       "WidgetsAndQuickOptions                  14\n",
       "dtype: int64"
      ]
     },
     "execution_count": 4,
     "metadata": {},
     "output_type": "execute_result"
    }
   ],
   "execution_count": 4
  },
  {
   "metadata": {
    "ExecuteTime": {
     "end_time": "2025-03-06T16:59:18.226286Z",
     "start_time": "2025-03-06T16:59:18.210286Z"
    }
   },
   "cell_type": "code",
   "source": [
    "df['topic'] = df['topic'].replace('AttachmentCapabilities', 'RareFeatureRequests')\n",
    "# df['topic'] = df['topic'].replace('File and Document Support: Requests for the ability to attach and save various document types (e.g., PDFs, Word files).', 'File and Document Support')\n",
    "# # VideoUploads, SearchAndSorting,FileSupport, AttachmentCapabilities,\n"
   ],
   "outputs": [],
   "execution_count": 8
  },
  {
   "metadata": {
    "ExecuteTime": {
     "end_time": "2025-03-06T12:24:11.428612Z",
     "start_time": "2025-03-06T12:24:11.416608Z"
    }
   },
   "cell_type": "code",
   "source": "df.groupby(\"topic\").size().sort_values()\n",
   "outputs": [
    {
     "data": {
      "text/plain": [
       "topic\n",
       "VideoUploads                             2\n",
       "SearchAndSorting                         7\n",
       "FileSupport                              9\n",
       "AttachmentCapabilities                  10\n",
       "NoteAlarmsAndArchiving                  10\n",
       "TrashBinAndCrossPlatform                12\n",
       "WidgetsAndQuickOptions                  14\n",
       "MessageOrganization                     14\n",
       "RemindersAndNotifications               16\n",
       "SecurityEnhancements                    20\n",
       "TextFormatting                          23\n",
       "Emotional Expression and Reflection     26\n",
       "ThemeCustomization                      30\n",
       "BackupAndSync                           31\n",
       "Loss of Data                            36\n",
       "GeneralDiscontent                       42\n",
       "Unique Concept                          51\n",
       "App Crashes                             63\n",
       "User Satisfaction                      248\n",
       "dtype: int64"
      ]
     },
     "execution_count": 8,
     "metadata": {},
     "output_type": "execute_result"
    }
   ],
   "execution_count": 8
  },
  {
   "metadata": {
    "ExecuteTime": {
     "end_time": "2025-03-05T20:19:51.074761Z",
     "start_time": "2025-03-05T20:19:51.040464Z"
    }
   },
   "cell_type": "code",
   "source": "df[df['topic']=='Requests for Enhancements']",
   "outputs": [
    {
     "data": {
      "text/plain": [
       "                                               content  score  thumbsUpCount  \\\n",
       "3    love how simple is this but please let us scro...      4              0   \n",
       "5    Really a great application but widget will mak...      5              0   \n",
       "20   Awesome app! Hope there's plans for a Windows ...      5              0   \n",
       "23           I can't secure my notes behind a password      1              0   \n",
       "27   I love the app (got the PRO) I hope they add F...      4              0   \n",
       "..                                                 ...    ...            ...   \n",
       "604  Great app! It's a unique way of implementing a...      5              3   \n",
       "606  Don't update ... the new update will take off ...      1              3   \n",
       "613  This is something I've been looking for for a ...      5              4   \n",
       "632  Feature Request :- Optional sound effect on pr...      5              6   \n",
       "642  This is such a wonderful idea, I truly fell in...      5              9   \n",
       "\n",
       "                         topic  \n",
       "3    Requests for Enhancements  \n",
       "5    Requests for Enhancements  \n",
       "20   Requests for Enhancements  \n",
       "23   Requests for Enhancements  \n",
       "27   Requests for Enhancements  \n",
       "..                         ...  \n",
       "604  Requests for Enhancements  \n",
       "606  Requests for Enhancements  \n",
       "613  Requests for Enhancements  \n",
       "632  Requests for Enhancements  \n",
       "642  Requests for Enhancements  \n",
       "\n",
       "[87 rows x 4 columns]"
      ],
      "text/html": [
       "<div>\n",
       "<style scoped>\n",
       "    .dataframe tbody tr th:only-of-type {\n",
       "        vertical-align: middle;\n",
       "    }\n",
       "\n",
       "    .dataframe tbody tr th {\n",
       "        vertical-align: top;\n",
       "    }\n",
       "\n",
       "    .dataframe thead th {\n",
       "        text-align: right;\n",
       "    }\n",
       "</style>\n",
       "<table border=\"1\" class=\"dataframe\">\n",
       "  <thead>\n",
       "    <tr style=\"text-align: right;\">\n",
       "      <th></th>\n",
       "      <th>content</th>\n",
       "      <th>score</th>\n",
       "      <th>thumbsUpCount</th>\n",
       "      <th>topic</th>\n",
       "    </tr>\n",
       "  </thead>\n",
       "  <tbody>\n",
       "    <tr>\n",
       "      <th>3</th>\n",
       "      <td>love how simple is this but please let us scro...</td>\n",
       "      <td>4</td>\n",
       "      <td>0</td>\n",
       "      <td>Requests for Enhancements</td>\n",
       "    </tr>\n",
       "    <tr>\n",
       "      <th>5</th>\n",
       "      <td>Really a great application but widget will mak...</td>\n",
       "      <td>5</td>\n",
       "      <td>0</td>\n",
       "      <td>Requests for Enhancements</td>\n",
       "    </tr>\n",
       "    <tr>\n",
       "      <th>20</th>\n",
       "      <td>Awesome app! Hope there's plans for a Windows ...</td>\n",
       "      <td>5</td>\n",
       "      <td>0</td>\n",
       "      <td>Requests for Enhancements</td>\n",
       "    </tr>\n",
       "    <tr>\n",
       "      <th>23</th>\n",
       "      <td>I can't secure my notes behind a password</td>\n",
       "      <td>1</td>\n",
       "      <td>0</td>\n",
       "      <td>Requests for Enhancements</td>\n",
       "    </tr>\n",
       "    <tr>\n",
       "      <th>27</th>\n",
       "      <td>I love the app (got the PRO) I hope they add F...</td>\n",
       "      <td>4</td>\n",
       "      <td>0</td>\n",
       "      <td>Requests for Enhancements</td>\n",
       "    </tr>\n",
       "    <tr>\n",
       "      <th>...</th>\n",
       "      <td>...</td>\n",
       "      <td>...</td>\n",
       "      <td>...</td>\n",
       "      <td>...</td>\n",
       "    </tr>\n",
       "    <tr>\n",
       "      <th>604</th>\n",
       "      <td>Great app! It's a unique way of implementing a...</td>\n",
       "      <td>5</td>\n",
       "      <td>3</td>\n",
       "      <td>Requests for Enhancements</td>\n",
       "    </tr>\n",
       "    <tr>\n",
       "      <th>606</th>\n",
       "      <td>Don't update ... the new update will take off ...</td>\n",
       "      <td>1</td>\n",
       "      <td>3</td>\n",
       "      <td>Requests for Enhancements</td>\n",
       "    </tr>\n",
       "    <tr>\n",
       "      <th>613</th>\n",
       "      <td>This is something I've been looking for for a ...</td>\n",
       "      <td>5</td>\n",
       "      <td>4</td>\n",
       "      <td>Requests for Enhancements</td>\n",
       "    </tr>\n",
       "    <tr>\n",
       "      <th>632</th>\n",
       "      <td>Feature Request :- Optional sound effect on pr...</td>\n",
       "      <td>5</td>\n",
       "      <td>6</td>\n",
       "      <td>Requests for Enhancements</td>\n",
       "    </tr>\n",
       "    <tr>\n",
       "      <th>642</th>\n",
       "      <td>This is such a wonderful idea, I truly fell in...</td>\n",
       "      <td>5</td>\n",
       "      <td>9</td>\n",
       "      <td>Requests for Enhancements</td>\n",
       "    </tr>\n",
       "  </tbody>\n",
       "</table>\n",
       "<p>87 rows × 4 columns</p>\n",
       "</div>"
      ]
     },
     "execution_count": 173,
     "metadata": {},
     "output_type": "execute_result"
    }
   ],
   "execution_count": 173
  },
  {
   "metadata": {
    "ExecuteTime": {
     "end_time": "2025-03-06T16:59:41.537173Z",
     "start_time": "2025-03-06T16:59:41.508171Z"
    }
   },
   "cell_type": "code",
   "source": [
    "topic_weight = df.groupby('topic').agg(\n",
    "    count=('topic', 'size'),\n",
    "    total_thumbs=('thumbsUpCount', 'sum')\n",
    ").reset_index()\n",
    "\n",
    "topic_weight['weight'] = topic_weight['count'] + topic_weight['total_thumbs']\n",
    "\n",
    "topic_weight = topic_weight[['topic', 'weight']]"
   ],
   "outputs": [],
   "execution_count": 9
  },
  {
   "metadata": {
    "ExecuteTime": {
     "end_time": "2025-03-06T12:33:34.788698Z",
     "start_time": "2025-03-06T12:33:34.766698Z"
    }
   },
   "cell_type": "code",
   "source": "topic_weight.sort_values(by='weight')",
   "outputs": [
    {
     "data": {
      "text/plain": [
       "                                  topic  weight\n",
       "17                         VideoUploads       2\n",
       "10                     SearchAndSorting       8\n",
       "4                           FileSupport      11\n",
       "1                AttachmentCapabilities      12\n",
       "14             TrashBinAndCrossPlatform      15\n",
       "18               WidgetsAndQuickOptions      17\n",
       "9             RemindersAndNotifications      20\n",
       "8                NoteAlarmsAndArchiving      23\n",
       "7                   MessageOrganization      26\n",
       "3   Emotional Expression and Reflection      37\n",
       "12                       TextFormatting      47\n",
       "11                 SecurityEnhancements      51\n",
       "2                         BackupAndSync      84\n",
       "5                     GeneralDiscontent     118\n",
       "13                   ThemeCustomization     124\n",
       "0                           App Crashes     139\n",
       "15                       Unique Concept     151\n",
       "6                          Loss of Data     218\n",
       "16                    User Satisfaction     382"
      ],
      "text/html": [
       "<div>\n",
       "<style scoped>\n",
       "    .dataframe tbody tr th:only-of-type {\n",
       "        vertical-align: middle;\n",
       "    }\n",
       "\n",
       "    .dataframe tbody tr th {\n",
       "        vertical-align: top;\n",
       "    }\n",
       "\n",
       "    .dataframe thead th {\n",
       "        text-align: right;\n",
       "    }\n",
       "</style>\n",
       "<table border=\"1\" class=\"dataframe\">\n",
       "  <thead>\n",
       "    <tr style=\"text-align: right;\">\n",
       "      <th></th>\n",
       "      <th>topic</th>\n",
       "      <th>weight</th>\n",
       "    </tr>\n",
       "  </thead>\n",
       "  <tbody>\n",
       "    <tr>\n",
       "      <th>17</th>\n",
       "      <td>VideoUploads</td>\n",
       "      <td>2</td>\n",
       "    </tr>\n",
       "    <tr>\n",
       "      <th>10</th>\n",
       "      <td>SearchAndSorting</td>\n",
       "      <td>8</td>\n",
       "    </tr>\n",
       "    <tr>\n",
       "      <th>4</th>\n",
       "      <td>FileSupport</td>\n",
       "      <td>11</td>\n",
       "    </tr>\n",
       "    <tr>\n",
       "      <th>1</th>\n",
       "      <td>AttachmentCapabilities</td>\n",
       "      <td>12</td>\n",
       "    </tr>\n",
       "    <tr>\n",
       "      <th>14</th>\n",
       "      <td>TrashBinAndCrossPlatform</td>\n",
       "      <td>15</td>\n",
       "    </tr>\n",
       "    <tr>\n",
       "      <th>18</th>\n",
       "      <td>WidgetsAndQuickOptions</td>\n",
       "      <td>17</td>\n",
       "    </tr>\n",
       "    <tr>\n",
       "      <th>9</th>\n",
       "      <td>RemindersAndNotifications</td>\n",
       "      <td>20</td>\n",
       "    </tr>\n",
       "    <tr>\n",
       "      <th>8</th>\n",
       "      <td>NoteAlarmsAndArchiving</td>\n",
       "      <td>23</td>\n",
       "    </tr>\n",
       "    <tr>\n",
       "      <th>7</th>\n",
       "      <td>MessageOrganization</td>\n",
       "      <td>26</td>\n",
       "    </tr>\n",
       "    <tr>\n",
       "      <th>3</th>\n",
       "      <td>Emotional Expression and Reflection</td>\n",
       "      <td>37</td>\n",
       "    </tr>\n",
       "    <tr>\n",
       "      <th>12</th>\n",
       "      <td>TextFormatting</td>\n",
       "      <td>47</td>\n",
       "    </tr>\n",
       "    <tr>\n",
       "      <th>11</th>\n",
       "      <td>SecurityEnhancements</td>\n",
       "      <td>51</td>\n",
       "    </tr>\n",
       "    <tr>\n",
       "      <th>2</th>\n",
       "      <td>BackupAndSync</td>\n",
       "      <td>84</td>\n",
       "    </tr>\n",
       "    <tr>\n",
       "      <th>5</th>\n",
       "      <td>GeneralDiscontent</td>\n",
       "      <td>118</td>\n",
       "    </tr>\n",
       "    <tr>\n",
       "      <th>13</th>\n",
       "      <td>ThemeCustomization</td>\n",
       "      <td>124</td>\n",
       "    </tr>\n",
       "    <tr>\n",
       "      <th>0</th>\n",
       "      <td>App Crashes</td>\n",
       "      <td>139</td>\n",
       "    </tr>\n",
       "    <tr>\n",
       "      <th>15</th>\n",
       "      <td>Unique Concept</td>\n",
       "      <td>151</td>\n",
       "    </tr>\n",
       "    <tr>\n",
       "      <th>6</th>\n",
       "      <td>Loss of Data</td>\n",
       "      <td>218</td>\n",
       "    </tr>\n",
       "    <tr>\n",
       "      <th>16</th>\n",
       "      <td>User Satisfaction</td>\n",
       "      <td>382</td>\n",
       "    </tr>\n",
       "  </tbody>\n",
       "</table>\n",
       "</div>"
      ]
     },
     "execution_count": 16,
     "metadata": {},
     "output_type": "execute_result"
    }
   ],
   "execution_count": 16
  },
  {
   "metadata": {
    "ExecuteTime": {
     "end_time": "2025-03-06T17:02:23.138513Z",
     "start_time": "2025-03-06T17:02:22.193432Z"
    }
   },
   "cell_type": "code",
   "source": [
    "    import pandas as pd\n",
    "    import matplotlib.pyplot as plt\n",
    "    import seaborn as sns\n",
    "\n",
    "    label_counts = topic_weight.sort_values(by='weight')\n",
    "    label_counts.columns = ['topic', 'weight']\n",
    "\n",
    "    # Визуализация с помощью matplotlib (круговая диаграмма)\n",
    "    plt.figure(figsize=(8, 5))\n",
    "    plt.pie(label_counts['weight'], labels=label_counts['topic'], autopct='%1.1f%%', colors=sns.color_palette('viridis'), labeldistance=1.5)\n",
    "    plt.savefig('out/result_pie.png', dpi=600, bbox_inches='tight')\n",
    "\n"
   ],
   "outputs": [
    {
     "data": {
      "text/plain": [
       "<Figure size 800x500 with 1 Axes>"
      ],
      "image/png": "[encoded data removed]"
     },
     "metadata": {},
     "output_type": "display_data"
    }
   ],
   "execution_count": 13
  },
  {
   "metadata": {
    "ExecuteTime": {
     "end_time": "2025-03-05T19:11:50.509130Z",
     "start_time": "2025-03-05T19:11:50.493961Z"
    }
   },
   "cell_type": "code",
   "source": "label_counts",
   "outputs": [
    {
     "data": {
      "text/plain": [
       "                               topic  weight\n",
       "0           Positive User Experience     109\n",
       "1          Requests for Enhancements      86\n",
       "2                        App Crashes      70\n",
       "3                Initial Impressions      68\n",
       "4               User-Friendly Design      50\n",
       "5   Backup and Recovery Improvements      40\n",
       "6                              Other      35\n",
       "7                        Ease of Use      33\n",
       "8      Search and Organization Tools      30\n",
       "9           Unique Note Organization      24\n",
       "10                  Editing Features      21\n",
       "11           Therapeutic Note-Taking      21\n",
       "12                 Data Loss Anxiety      20\n",
       "13       Reminders and Notifications      17\n",
       "14         File and Document Support      15\n",
       "15            Developer Appreciation      15\n",
       "16                       Trial Usage       6\n",
       "17        Requests for Communication       4"
      ],
      "text/html": [
       "<div>\n",
       "<style scoped>\n",
       "    .dataframe tbody tr th:only-of-type {\n",
       "        vertical-align: middle;\n",
       "    }\n",
       "\n",
       "    .dataframe tbody tr th {\n",
       "        vertical-align: top;\n",
       "    }\n",
       "\n",
       "    .dataframe thead th {\n",
       "        text-align: right;\n",
       "    }\n",
       "</style>\n",
       "<table border=\"1\" class=\"dataframe\">\n",
       "  <thead>\n",
       "    <tr style=\"text-align: right;\">\n",
       "      <th></th>\n",
       "      <th>topic</th>\n",
       "      <th>weight</th>\n",
       "    </tr>\n",
       "  </thead>\n",
       "  <tbody>\n",
       "    <tr>\n",
       "      <th>0</th>\n",
       "      <td>Positive User Experience</td>\n",
       "      <td>109</td>\n",
       "    </tr>\n",
       "    <tr>\n",
       "      <th>1</th>\n",
       "      <td>Requests for Enhancements</td>\n",
       "      <td>86</td>\n",
       "    </tr>\n",
       "    <tr>\n",
       "      <th>2</th>\n",
       "      <td>App Crashes</td>\n",
       "      <td>70</td>\n",
       "    </tr>\n",
       "    <tr>\n",
       "      <th>3</th>\n",
       "      <td>Initial Impressions</td>\n",
       "      <td>68</td>\n",
       "    </tr>\n",
       "    <tr>\n",
       "      <th>4</th>\n",
       "      <td>User-Friendly Design</td>\n",
       "      <td>50</td>\n",
       "    </tr>\n",
       "    <tr>\n",
       "      <th>5</th>\n",
       "      <td>Backup and Recovery Improvements</td>\n",
       "      <td>40</td>\n",
       "    </tr>\n",
       "    <tr>\n",
       "      <th>6</th>\n",
       "      <td>Other</td>\n",
       "      <td>35</td>\n",
       "    </tr>\n",
       "    <tr>\n",
       "      <th>7</th>\n",
       "      <td>Ease of Use</td>\n",
       "      <td>33</td>\n",
       "    </tr>\n",
       "    <tr>\n",
       "      <th>8</th>\n",
       "      <td>Search and Organization Tools</td>\n",
       "      <td>30</td>\n",
       "    </tr>\n",
       "    <tr>\n",
       "      <th>9</th>\n",
       "      <td>Unique Note Organization</td>\n",
       "      <td>24</td>\n",
       "    </tr>\n",
       "    <tr>\n",
       "      <th>10</th>\n",
       "      <td>Editing Features</td>\n",
       "      <td>21</td>\n",
       "    </tr>\n",
       "    <tr>\n",
       "      <th>11</th>\n",
       "      <td>Therapeutic Note-Taking</td>\n",
       "      <td>21</td>\n",
       "    </tr>\n",
       "    <tr>\n",
       "      <th>12</th>\n",
       "      <td>Data Loss Anxiety</td>\n",
       "      <td>20</td>\n",
       "    </tr>\n",
       "    <tr>\n",
       "      <th>13</th>\n",
       "      <td>Reminders and Notifications</td>\n",
       "      <td>17</td>\n",
       "    </tr>\n",
       "    <tr>\n",
       "      <th>14</th>\n",
       "      <td>File and Document Support</td>\n",
       "      <td>15</td>\n",
       "    </tr>\n",
       "    <tr>\n",
       "      <th>15</th>\n",
       "      <td>Developer Appreciation</td>\n",
       "      <td>15</td>\n",
       "    </tr>\n",
       "    <tr>\n",
       "      <th>16</th>\n",
       "      <td>Trial Usage</td>\n",
       "      <td>6</td>\n",
       "    </tr>\n",
       "    <tr>\n",
       "      <th>17</th>\n",
       "      <td>Requests for Communication</td>\n",
       "      <td>4</td>\n",
       "    </tr>\n",
       "  </tbody>\n",
       "</table>\n",
       "</div>"
      ]
     },
     "execution_count": 165,
     "metadata": {},
     "output_type": "execute_result"
    }
   ],
   "execution_count": 165
  }
 ],
 "metadata": {
  "kernelspec": {
   "display_name": "Python 3",
   "language": "python",
   "name": "python3"
  },
  "language_info": {
   "codemirror_mode": {
    "name": "ipython",
    "version": 2
   },
   "file_extension": ".py",
   "mimetype": "text/x-python",
   "name": "python",
   "nbconvert_exporter": "python",
   "pygments_lexer": "ipython2",
   "version": "2.7.6"
  }
 },
 "nbformat": 4,
 "nbformat_minor": 0
}
